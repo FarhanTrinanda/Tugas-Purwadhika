{
 "cells": [
  {
   "cell_type": "code",
   "execution_count": 4,
   "metadata": {},
   "outputs": [
    {
     "name": "stdout",
     "output_type": "stream",
     "text": [
      "The word bab appeard 3 times\n"
     ]
    }
   ],
   "source": [
    "#Soal 1\n",
    "\n",
    "# input: \n",
    "spam = 'ababaababbbbcccbabcc'\n",
    "word = 'bab'\n",
    "count = 0\n",
    "\n",
    "for i in range(len(spam)):\n",
    "    if spam[i: i+3] == word:\n",
    "        count += 1\n",
    "\n",
    "print(f'The word {word} appeard {count} times')\n"
   ]
  },
  {
   "cell_type": "code",
   "execution_count": 5,
   "metadata": {},
   "outputs": [
    {
     "data": {
      "text/plain": [
       "False"
      ]
     },
     "execution_count": 5,
     "metadata": {},
     "output_type": "execute_result"
    }
   ],
   "source": [
    "#Soal 2\n",
    "\n",
    "# input:\n",
    "spam = 'oOxxX'\n",
    "\n",
    "count_o = 0\n",
    "count_x = 0\n",
    "\n",
    "for i in spam:\n",
    "    if i == 'o':\n",
    "        count_o += 1\n",
    "    elif i == 'x':\n",
    "        count_x += 1\n",
    "\n",
    "# output:\n",
    "count_x == count_o"
   ]
  },
  {
   "cell_type": "code",
   "execution_count": 7,
   "metadata": {},
   "outputs": [
    {
     "name": "stdout",
     "output_type": "stream",
     "text": [
      "153 is narcistic number\n"
     ]
    }
   ],
   "source": [
    "#Soal 3\n",
    "\n",
    "# input:\n",
    "spam = 153\n",
    "val = 0\n",
    "\n",
    "for i in str(spam):\n",
    "    val += int(i)**3\n",
    "\n",
    "if val == spam:\n",
    "    print(f'{spam} is narcistic number')\n",
    "else:\n",
    "    print(f'{spam} is not narcistic number')\n",
    "\n",
    "\n",
    "# output:\n",
    "#'153 is narcissistic number'"
   ]
  },
  {
   "cell_type": "code",
   "execution_count": 21,
   "metadata": {},
   "outputs": [
    {
     "name": "stdout",
     "output_type": "stream",
     "text": [
      "1 2 fizz 4 buzz fizz 7 8 fizz buzz 11 fizz 13 14 fizzbuzz 16 17 fizz 19 buzz fizz 22 23 fizz buzz 26 fizz 28 29 fizzbuzz 31 32 fizz 34 "
     ]
    }
   ],
   "source": [
    "#Soal 4\n",
    "\n",
    "# input\n",
    "#Enter a number (greater than 0) or QUIT: 35\n",
    "upTo = 35\n",
    "val = 0\n",
    "for i in range(1, 35):\n",
    "    if i % 3 == 0 and i % 5 == 0:\n",
    "        print('fizzbuzz',end =' ')\n",
    "    elif i % 3 == 0:\n",
    "        print('fizz',end =' ')\n",
    "    elif i % 5 == 0:\n",
    "        print('buzz',end =' ')\n",
    "    else:\n",
    "        print(i,end =' ')\n",
    "    \n",
    "\n",
    "\n",
    "# output\n",
    "#1 2 Fizz 4 Buzz Fizz 7 8 Fizz Buzz 11 Fizz 13 14 FizzBuzz 16 17 Fizz #19 Buzz Fizz 22\n",
    "#23 Fizz Buzz 26 Fizz 28 29 FizzBuzz 31 32 Fizz 34 Buzz"
   ]
  },
  {
   "cell_type": "code",
   "execution_count": 1,
   "metadata": {},
   "outputs": [
    {
     "name": "stdout",
     "output_type": "stream",
     "text": [
      "dog\n"
     ]
    }
   ],
   "source": [
    "#Soal 5\n",
    "#Input\n",
    "\n",
    "text = input('Masukan hurufnya: ')\n",
    "oldText = 'fox'\n",
    "newText = 'dog'\n",
    "index = -1\n",
    "\n",
    "while True :\n",
    "    text1 = text.replace(oldText, newText, index+2)\n",
    "    break\n",
    "\n",
    "#output\n",
    "print(text1)"
   ]
  },
  {
   "cell_type": "code",
   "execution_count": null,
   "metadata": {},
   "outputs": [],
   "source": [
    "#Soal 6\n",
    "\n",
    "n = int(input('enter your name'))\n",
    "while n != 1:\n",
    "    if n % 2 == 0:\n",
    "        print(n, end=\" \")\n",
    "        n = n // 2\n",
    "    else:\n",
    "        print(n, end=\" \")\n",
    "        n = n * 3 + 1\n",
    "else:\n",
    "    print(1)\n"
   ]
  },
  {
   "cell_type": "code",
   "execution_count": null,
   "metadata": {},
   "outputs": [],
   "source": [
    "#Soal 7\n",
    "\n",
    "n = int(input(\"enter the nth fibonacci number you wish to calculate: \"))\n",
    "fib_sequence = [0, 1]\n",
    "while len(fib_sequence) < n:\n",
    "    fib_sequence.append(fib_sequence[-1] + fib_sequence[-2])\n",
    "print(\", \".join(map(str, fib_sequence)))\n"
   ]
  },
  {
   "cell_type": "code",
   "execution_count": null,
   "metadata": {},
   "outputs": [],
   "source": [
    "#Soal 8\n",
    "\n",
    "message = input(\"enter the message to hack\")\n",
    "LETTERS = 'ABCDEFGHIJKLMNOPQRSTUVWXYZ'\n",
    "\n",
    "for key in range(len(LETTERS)):\n",
    "    translated = ''\n",
    "    for symbol in message:\n",
    "        if symbol in LETTERS:\n",
    "            num = LETTERS.find(symbol)\n",
    "            num = num - key\n",
    "            if num < 0:\n",
    "                num = num + len(LETTERS)\n",
    "            translated = translated = LETTERS[num]\n",
    "        else:\n",
    "            translated = translated + symbol\n",
    "    print(f'key')\n"
   ]
  }
 ],
 "metadata": {
  "kernelspec": {
   "display_name": "base",
   "language": "python",
   "name": "python3"
  },
  "language_info": {
   "codemirror_mode": {
    "name": "ipython",
    "version": 3
   },
   "file_extension": ".py",
   "mimetype": "text/x-python",
   "name": "python",
   "nbconvert_exporter": "python",
   "pygments_lexer": "ipython3",
   "version": "3.11.5"
  }
 },
 "nbformat": 4,
 "nbformat_minor": 2
}
