{
 "cells": [
  {
   "cell_type": "code",
   "execution_count": 7,
   "metadata": {},
   "outputs": [
    {
     "name": "stdout",
     "output_type": "stream",
     "text": [
      "Shambada, 8\n"
     ]
    }
   ],
   "source": [
    "#Soal 1\n",
    "\n",
    "nama = input('Enter your Name: ').split()\n",
    "\n",
    "#print(nama[0])\n",
    "print(f'{nama[0]}, {len(nama[0])}')\n"
   ]
  },
  {
   "cell_type": "code",
   "execution_count": 8,
   "metadata": {},
   "outputs": [
    {
     "name": "stdout",
     "output_type": "stream",
     "text": [
      "Output: HMAANBLNGOO\n"
     ]
    }
   ],
   "source": [
    "#Soal 2\n",
    "\n",
    "nama = input('Masukan nama anda: ').upper()\n",
    "print(f'Output: {nama[1::2]}')\n"
   ]
  },
  {
   "cell_type": "code",
   "execution_count": 10,
   "metadata": {},
   "outputs": [
    {
     "name": "stdout",
     "output_type": "stream",
     "text": [
      "total: 22, reverse: 7654\n"
     ]
    }
   ],
   "source": [
    "#Soal 3\n",
    "\n",
    "angka = input('Masukan angka anda: ')\n",
    "\n",
    "ribuan = int(angka[0])\n",
    "ratusan = int(angka[1])\n",
    "puluhan = int(angka[2])\n",
    "satuan = int(angka[3])\n",
    "\n",
    "total = ribuan + ratusan + puluhan + satuan\n",
    "reverse = angka[::-1]\n",
    "\n",
    "print(f'total: {total}, reverse: {reverse}')"
   ]
  },
  {
   "cell_type": "code",
   "execution_count": null,
   "metadata": {},
   "outputs": [],
   "source": [
    "#Soal 4\n",
    "import math\n",
    "\n",
    "x1, y1 = input('Masukan nama anda: ').split(',')\n",
    "x2, y2 = input('Masukan nama anda: ').split(',')\n",
    "\n",
    "deltaY = float(y2) - float(y1)\n",
    "deltaX = float(x2) - float(x1)\n",
    "\n",
    "slope = deltaY/deltaX\n",
    "distance = round(math.sqrt(deltaX**2 + deltaY**2), 3)\n",
    "\n",
    "print(f'slope: {slope}, distance: {distance}')\n"
   ]
  },
  {
   "cell_type": "code",
   "execution_count": null,
   "metadata": {},
   "outputs": [],
   "source": [
    "#Soal 5\n",
    "\n",
    "teks1, teks2 = input('masukan teks anda: ').split(',')\n",
    "text1, teks2 = teks1.strip(), teks2.strip()\n",
    "\n",
    "output = f'{teks2[:3]}{teks1[3:]}{teks1[:3]}{teks2[3:]}'\n",
    "print(f'output: {output}')"
   ]
  },
  {
   "cell_type": "code",
   "execution_count": null,
   "metadata": {},
   "outputs": [],
   "source": [
    "#Soal 6\n",
    "\n",
    "teks1 = input('Masukan teks anda: ')\n",
    "teks2 = input('Masukan teks anda: ')\n",
    "\n",
    "mid = len(teks1)//2\n",
    "output = f'{teks1[0]}{teks2[0]}{teks1[mid]}{teks2[mid]}{text1[-1]}{teks2[-1]}'\n",
    "print(f'Output: {output}')"
   ]
  },
  {
   "cell_type": "code",
   "execution_count": null,
   "metadata": {},
   "outputs": [],
   "source": [
    "#Soal 7\n",
    "\n",
    "teks1 = input('Masukan teks anda: ')\n",
    "teks2 = input('Masukan teks anda: ')\n",
    "\n",
    "mid = len(teks1)//2\n",
    "output = f'{teks1[:mid]}{teks2}{teks1[mid:]}'\n",
    "print(f'Output: {output}')"
   ]
  }
 ],
 "metadata": {
  "kernelspec": {
   "display_name": "base",
   "language": "python",
   "name": "python3"
  },
  "language_info": {
   "codemirror_mode": {
    "name": "ipython",
    "version": 3
   },
   "file_extension": ".py",
   "mimetype": "text/x-python",
   "name": "python",
   "nbconvert_exporter": "python",
   "pygments_lexer": "ipython3",
   "version": "3.11.5"
  }
 },
 "nbformat": 4,
 "nbformat_minor": 2
}
