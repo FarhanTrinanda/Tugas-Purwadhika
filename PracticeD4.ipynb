{
 "cells": [
  {
   "cell_type": "code",
   "execution_count": null,
   "metadata": {},
   "outputs": [],
   "source": [
    "#Soal 1 PPT\n",
    "\n",
    "def convert(value):\n",
    "    if value % 2 == 0:\n",
    "        return \"genap\"\n",
    "    else:\n",
    "        return \"ganjil\"\n",
    "\n",
    "L1 = [1, 3, 4, 5]\n",
    "result = list(map(convert, L1))\n",
    "\n",
    "result"
   ]
  },
  {
   "cell_type": "code",
   "execution_count": null,
   "metadata": {},
   "outputs": [],
   "source": [
    "#Soal 2 PPT\n",
    "\n",
    "def convert(gaji):\n",
    "    x = gaji * (1 - 0.05)\n",
    "    if x >= 9000000:\n",
    "        return gaji\n",
    "\n",
    "L1 = [91e5, 98e5, 95e5, 103e5, 93e5]\n",
    "result = list(filter(convert, L1))\n",
    "\n",
    "result"
   ]
  },
  {
   "cell_type": "code",
   "execution_count": 37,
   "metadata": {},
   "outputs": [],
   "source": [
    "#Lets Practice Q1\n",
    "\n",
    "# Factorial of a number using recursion\n",
    "\n",
    "def factorial(n):\n",
    "   if n < 0:\n",
    "       return None\n",
    "   elif n == 0:\n",
    "       return 1\n",
    "   else:\n",
    "       return n*factorial(n-1)\n",
    "\n",
    "assert factorial(0) == 1\n",
    "assert factorial(3) == 6\n",
    "assert factorial(10) == 3628800\n",
    "assert factorial(-10) == None\n"
   ]
  },
  {
   "cell_type": "code",
   "execution_count": 35,
   "metadata": {},
   "outputs": [],
   "source": [
    "#Lets Practice Q2\n",
    "\n",
    "def timeConvert(totalSeconds):\n",
    "    if totalSeconds == 0:\n",
    "        return '0s'\n",
    "    \n",
    "    hours = 0\n",
    "    while totalSeconds >= 3600:\n",
    "        hours += 1\n",
    "        totalSeconds -= 3600\n",
    "\n",
    "    minute = 0\n",
    "    while totalSeconds >= 60:\n",
    "        minute += 1\n",
    "        totalSeconds -= 60\n",
    "\n",
    "    seconds = totalSeconds\n",
    "\n",
    "    out = []\n",
    "    if hours > 0:\n",
    "        out.append(str(hours) + 'h')\n",
    "    if minute > 0:\n",
    "        out.append(str(minute) + 'm')\n",
    "    if seconds > 0:\n",
    "        out.append(str(seconds) + 's')\n",
    "    \n",
    "    return ' '.join(out)\n",
    "\n",
    "assert timeConvert(0) == '0s'\n",
    "assert timeConvert(30) == '30s'\n",
    "assert timeConvert(60) == '1m'\n",
    "assert timeConvert(90) == '1m 30s'\n",
    "assert timeConvert(3600) == '1h'\n",
    "assert timeConvert(3601) == '1h 1s'\n",
    "assert timeConvert(3661) == '1h 1m 1s'\n",
    "assert timeConvert(90042) == '25h 42s'\n",
    "\n",
    "\n"
   ]
  },
  {
   "cell_type": "code",
   "execution_count": 39,
   "metadata": {},
   "outputs": [],
   "source": [
    "#Lets Practice Q3\n",
    "\n",
    "def area(l, w):\n",
    "    return l * w\n",
    "\n",
    "def volume(l, w, h):\n",
    "    return area(l, w) * h\n",
    "\n",
    "assert area(10, 10) == 100\n",
    "assert area(0, 9999) == 0\n",
    "assert volume(10, 10, 10) == 1000\n",
    "assert volume(5, 8, 10) == 400"
   ]
  },
  {
   "cell_type": "code",
   "execution_count": 5,
   "metadata": {},
   "outputs": [],
   "source": [
    "#Lets Practice Q4\n",
    "\n",
    "def getColor(r, c):\n",
    "    if r < 0 or r > 7 or c < 0 or c > 7:\n",
    "        return ''\n",
    "    elif r % 2 == c % 2:\n",
    "        return 'white'\n",
    "    else:\n",
    "        return 'black'\n",
    "    \n",
    "assert getColor(1, 1) == 'white'\n",
    "assert getColor(2, 1) == 'black'\n",
    "assert getColor(1, 2) == 'black'\n",
    "assert getColor(7, 7) == 'white'\n",
    "assert getColor(0, 8) == ''\n",
    "assert getColor(2, 9) == ''"
   ]
  },
  {
   "cell_type": "code",
   "execution_count": 10,
   "metadata": {},
   "outputs": [
    {
     "data": {
      "text/plain": [
       "'QIIX QI FC XLI VSWI FYWLIW XSRMKLX.'"
      ]
     },
     "execution_count": 10,
     "metadata": {},
     "output_type": "execute_result"
    }
   ],
   "source": [
    "#Lets Practice Q5\n",
    "\n",
    "def encrypthor(text):\n",
    "    SYMBOL = 'ABCDEFGHIJKLMNOPQRSTUVWXYZ'\n",
    "    out = ''\n",
    "    for word in text.upper():\n",
    "        if word in SYMBOL:\n",
    "            index = SYMBOL.find(word)\n",
    "            index += 4\n",
    "\n",
    "            if index > len(SYMBOL):\n",
    "                index -= len(SYMBOL)\n",
    "            \n",
    "            out += SYMBOL[index]\n",
    "        else:\n",
    "            out += word\n",
    "    \n",
    "    return out\n",
    "\n",
    "encrypthor('Meet me by the rose bushes tonight.')"
   ]
  },
  {
   "cell_type": "code",
   "execution_count": 12,
   "metadata": {},
   "outputs": [],
   "source": [
    "#Lets Practice Q6\n",
    "\n",
    "def isLeapYear(year):\n",
    "    if year % 400 == 0:\n",
    "        return True\n",
    "    elif year % 100 == 0:\n",
    "        return False\n",
    "    elif year % 4 == 0:\n",
    "        return True\n",
    "    else:\n",
    "        return False\n",
    "\n",
    "assert isLeapYear(1999) == False\n",
    "assert isLeapYear(2000) == True\n",
    "assert isLeapYear(2001) == False\n",
    "assert isLeapYear(2004) == True\n",
    "assert isLeapYear(2100) == False\n",
    "assert isLeapYear(2400) == True"
   ]
  },
  {
   "cell_type": "code",
   "execution_count": 23,
   "metadata": {},
   "outputs": [
    {
     "data": {
      "text/plain": [
       "False"
      ]
     },
     "execution_count": 23,
     "metadata": {},
     "output_type": "execute_result"
    }
   ],
   "source": [
    "#Lets Practice Q7\n",
    "def isValidDate(year, month, day):\n",
    "    if month == 1 and month == 3 and month == 5 and month == 7 and month == 8 and month == 10 and month == 12:\n",
    "        max_days = 31 \n",
    "    elif month == 4 and month == 6 and month == 9 and month == 11:\n",
    "        max_days = 30\n",
    "    elif year % 4 == 0 and year % 100 != 0 or year % 400 == 0:\n",
    "        max_days = 29\n",
    "    else:\n",
    "        max_days = 28\n",
    "    \n",
    "    if month < 1 or month > 12:\n",
    "        return False\n",
    "    elif day < 1 or day > max_days:\n",
    "        return False\n",
    "    else:\n",
    "        return True\n",
    "\n",
    "assert isValidDate(2001, 2, 29) == False\n",
    "assert isValidDate(2029, 13, 1) == False\n",
    "assert isValidDate(1000000, 1, 1) == True\n",
    "assert isValidDate(2015, 4, 31) == False\n",
    "\n",
    "#isValidDate(2024, 3, 35)\n",
    "\n",
    "\n"
   ]
  },
  {
   "cell_type": "code",
   "execution_count": 28,
   "metadata": {},
   "outputs": [],
   "source": [
    "#Lets Practice Q8\n",
    "\n",
    "def commaFormat(number):\n",
    "    number = str(number)\n",
    "    if '.' in number:\n",
    "        fractionalPart = number[number.index('.'):]\n",
    "        number = number[:number.index('.')]\n",
    "    else:\n",
    "        fractionalPart = ''\n",
    "    \n",
    "    triplet = ''\n",
    "    commaNumber = ''\n",
    "\n",
    "    for i in range(len(number) -1, -1, -1):\n",
    "        triplet = number[i] + triplet\n",
    "        if len(triplet) == 3:\n",
    "            commaNumber = triplet + ',' + commaNumber\n",
    "            triplet = ''\n",
    "    \n",
    "    if triplet != '':\n",
    "        commaNumber = triplet + ',' + commaNumber\n",
    "    \n",
    "    return commaNumber[:-1] + fractionalPart\n",
    "\n",
    "assert commaFormat(1) == '1'\n",
    "assert commaFormat(10) == '10'\n",
    "assert commaFormat(100) == '100'\n",
    "assert commaFormat(1000) == '1,000'\n",
    "assert commaFormat(10000) == '10,000'\n",
    "assert commaFormat(100000) == '100,000'\n",
    "assert commaFormat(1000000) == '1,000,000'\n",
    "assert commaFormat(1234567890) == '1,234,567,890'\n",
    "assert commaFormat(1000.123456) == '1,000.123456'"
   ]
  }
 ],
 "metadata": {
  "kernelspec": {
   "display_name": "base",
   "language": "python",
   "name": "python3"
  },
  "language_info": {
   "codemirror_mode": {
    "name": "ipython",
    "version": 3
   },
   "file_extension": ".py",
   "mimetype": "text/x-python",
   "name": "python",
   "nbconvert_exporter": "python",
   "pygments_lexer": "ipython3",
   "version": "3.11.5"
  }
 },
 "nbformat": 4,
 "nbformat_minor": 2
}
